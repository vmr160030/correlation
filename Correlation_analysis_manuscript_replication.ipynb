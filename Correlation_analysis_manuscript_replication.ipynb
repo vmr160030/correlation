{
 "cells": [
  {
   "cell_type": "code",
   "execution_count": 1,
   "metadata": {},
   "outputs": [],
   "source": [
    "import pandas as pd\n",
    "import os\n",
    "import numpy as np\n",
    "import seaborn as sns\n",
    "from scipy import stats\n",
    "import glob\n",
    "import matplotlib.pyplot as plt"
   ]
  },
  {
   "cell_type": "code",
   "execution_count": 4,
   "metadata": {},
   "outputs": [],
   "source": [
    "strProjectDir = '/project/bioinformatics/DLLab/s187521/Maguire/MTC_Correlation'\n",
    "strCorrelationXlsx = glob.glob(os.path.join(strProjectDir, 'Corr*.xlsx'))[0]"
   ]
  },
  {
   "cell_type": "code",
   "execution_count": 32,
   "metadata": {},
   "outputs": [],
   "source": [
    "dfCorr = pd.read_excel(strCorrelationXlsx)"
   ]
  },
  {
   "cell_type": "code",
   "execution_count": 33,
   "metadata": {},
   "outputs": [
    {
     "data": {
      "text/plain": [
       "(31, 11)"
      ]
     },
     "execution_count": 33,
     "metadata": {},
     "output_type": "execute_result"
    }
   ],
   "source": [
    "dfCorr.shape"
   ]
  },
  {
   "cell_type": "code",
   "execution_count": 34,
   "metadata": {},
   "outputs": [
    {
     "data": {
      "text/html": [
       "<div>\n",
       "<style scoped>\n",
       "    .dataframe tbody tr th:only-of-type {\n",
       "        vertical-align: middle;\n",
       "    }\n",
       "\n",
       "    .dataframe tbody tr th {\n",
       "        vertical-align: top;\n",
       "    }\n",
       "\n",
       "    .dataframe thead th {\n",
       "        text-align: right;\n",
       "    }\n",
       "</style>\n",
       "<table border=\"1\" class=\"dataframe\">\n",
       "  <thead>\n",
       "    <tr style=\"text-align: right;\">\n",
       "      <th></th>\n",
       "      <th>Related ERP</th>\n",
       "      <th>Unrelated ERP</th>\n",
       "      <th>Related ERSP</th>\n",
       "      <th>Unrelated ERSP</th>\n",
       "      <th>Related ITC</th>\n",
       "      <th>Unrelated ITC</th>\n",
       "      <th>Related_PL</th>\n",
       "      <th>Unrelated_PL</th>\n",
       "      <th>Diff_ERP</th>\n",
       "      <th>Diff_ERSP</th>\n",
       "      <th>Diff_PL</th>\n",
       "    </tr>\n",
       "  </thead>\n",
       "  <tbody>\n",
       "    <tr>\n",
       "      <th>0</th>\n",
       "      <td>0.560538</td>\n",
       "      <td>-0.626607</td>\n",
       "      <td>-0.164606</td>\n",
       "      <td>0.198252</td>\n",
       "      <td>0.096112</td>\n",
       "      <td>0.103566</td>\n",
       "      <td>-0.260718</td>\n",
       "      <td>0.094686</td>\n",
       "      <td>-1.187145</td>\n",
       "      <td>0.362858</td>\n",
       "      <td>0.355404</td>\n",
       "    </tr>\n",
       "    <tr>\n",
       "      <th>1</th>\n",
       "      <td>0.180159</td>\n",
       "      <td>-0.101855</td>\n",
       "      <td>-0.277201</td>\n",
       "      <td>0.429039</td>\n",
       "      <td>0.117032</td>\n",
       "      <td>0.173135</td>\n",
       "      <td>-0.394232</td>\n",
       "      <td>0.255904</td>\n",
       "      <td>-0.282014</td>\n",
       "      <td>0.706240</td>\n",
       "      <td>0.650136</td>\n",
       "    </tr>\n",
       "    <tr>\n",
       "      <th>2</th>\n",
       "      <td>-0.685899</td>\n",
       "      <td>-0.531979</td>\n",
       "      <td>0.403274</td>\n",
       "      <td>0.804269</td>\n",
       "      <td>0.124818</td>\n",
       "      <td>0.289896</td>\n",
       "      <td>0.278456</td>\n",
       "      <td>0.514373</td>\n",
       "      <td>0.153920</td>\n",
       "      <td>0.400995</td>\n",
       "      <td>0.235916</td>\n",
       "    </tr>\n",
       "    <tr>\n",
       "      <th>3</th>\n",
       "      <td>-0.168691</td>\n",
       "      <td>0.358589</td>\n",
       "      <td>-0.050926</td>\n",
       "      <td>0.356581</td>\n",
       "      <td>0.128303</td>\n",
       "      <td>0.135734</td>\n",
       "      <td>-0.179229</td>\n",
       "      <td>0.220847</td>\n",
       "      <td>0.527281</td>\n",
       "      <td>0.407507</td>\n",
       "      <td>0.400076</td>\n",
       "    </tr>\n",
       "    <tr>\n",
       "      <th>4</th>\n",
       "      <td>-1.975439</td>\n",
       "      <td>-1.518363</td>\n",
       "      <td>0.300150</td>\n",
       "      <td>0.043019</td>\n",
       "      <td>0.070004</td>\n",
       "      <td>0.131593</td>\n",
       "      <td>0.230146</td>\n",
       "      <td>-0.088573</td>\n",
       "      <td>0.457076</td>\n",
       "      <td>-0.257131</td>\n",
       "      <td>-0.318720</td>\n",
       "    </tr>\n",
       "  </tbody>\n",
       "</table>\n",
       "</div>"
      ],
      "text/plain": [
       "   Related ERP  Unrelated ERP  Related ERSP  Unrelated ERSP  Related ITC  \\\n",
       "0     0.560538      -0.626607     -0.164606        0.198252     0.096112   \n",
       "1     0.180159      -0.101855     -0.277201        0.429039     0.117032   \n",
       "2    -0.685899      -0.531979      0.403274        0.804269     0.124818   \n",
       "3    -0.168691       0.358589     -0.050926        0.356581     0.128303   \n",
       "4    -1.975439      -1.518363      0.300150        0.043019     0.070004   \n",
       "\n",
       "   Unrelated ITC  Related_PL  Unrelated_PL  Diff_ERP  Diff_ERSP   Diff_PL  \n",
       "0       0.103566   -0.260718      0.094686 -1.187145   0.362858  0.355404  \n",
       "1       0.173135   -0.394232      0.255904 -0.282014   0.706240  0.650136  \n",
       "2       0.289896    0.278456      0.514373  0.153920   0.400995  0.235916  \n",
       "3       0.135734   -0.179229      0.220847  0.527281   0.407507  0.400076  \n",
       "4       0.131593    0.230146     -0.088573  0.457076  -0.257131 -0.318720  "
      ]
     },
     "execution_count": 34,
     "metadata": {},
     "output_type": "execute_result"
    }
   ],
   "source": [
    "dfCorr.head()"
   ]
  },
  {
   "cell_type": "code",
   "execution_count": 35,
   "metadata": {},
   "outputs": [
    {
     "data": {
      "text/plain": [
       "LinregressResult(slope=0.8329964187742085, intercept=-0.5676946928968736, rvalue=0.4202264795670184, pvalue=0.01858645436086997, stderr=0.3340171078819989)"
      ]
     },
     "execution_count": 35,
     "metadata": {},
     "output_type": "execute_result"
    }
   ],
   "source": [
    "stats.linregress(dfCorr['Diff_ERP'], dfCorr['Diff_ERSP'])"
   ]
  },
  {
   "cell_type": "code",
   "execution_count": 36,
   "metadata": {},
   "outputs": [
    {
     "data": {
      "text/plain": [
       "0.17639999999999997"
      ]
     },
     "execution_count": 36,
     "metadata": {},
     "output_type": "execute_result"
    }
   ],
   "source": [
    "0.42**2"
   ]
  },
  {
   "cell_type": "code",
   "execution_count": 37,
   "metadata": {},
   "outputs": [
    {
     "name": "stderr",
     "output_type": "stream",
     "text": [
      "/project/bioinformatics/DLLab/shared/CondaEnvironments/VyomtfGPU/lib/python3.6/site-packages/scipy/stats/stats.py:1713: FutureWarning: Using a non-tuple sequence for multidimensional indexing is deprecated; use `arr[tuple(seq)]` instead of `arr[seq]`. In the future this will be interpreted as an array index, `arr[np.array(seq)]`, which will result either in an error or a different result.\n",
      "  return np.add.reduce(sorted[indexer] * weights, axis=axis) / sumval\n",
      "/project/bioinformatics/DLLab/shared/CondaEnvironments/VyomtfGPU/lib/python3.6/site-packages/matplotlib/axes/_axes.py:6462: UserWarning: The 'normed' kwarg is deprecated, and has been replaced by the 'density' kwarg.\n",
      "  warnings.warn(\"The 'normed' kwarg is deprecated, and has been \"\n",
      "/project/bioinformatics/DLLab/shared/CondaEnvironments/VyomtfGPU/lib/python3.6/site-packages/matplotlib/axes/_axes.py:6462: UserWarning: The 'normed' kwarg is deprecated, and has been replaced by the 'density' kwarg.\n",
      "  warnings.warn(\"The 'normed' kwarg is deprecated, and has been \"\n"
     ]
    },
    {
     "data": {
      "text/plain": [
       "<seaborn.axisgrid.JointGrid at 0x2aab3e692e48>"
      ]
     },
     "execution_count": 37,
     "metadata": {},
     "output_type": "execute_result"
    },
    {
     "data": {
      "image/png": "[encoded data removed]",
      "text/plain": [
       "<Figure size 432x432 with 3 Axes>"
      ]
     },
     "metadata": {},
     "output_type": "display_data"
    }
   ],
   "source": [
    "sns.jointplot(x='Diff_ERSP', y='Diff_ERP', data=dfCorr, fit_reg=True, kind='reg')"
   ]
  },
  {
   "cell_type": "markdown",
   "metadata": {},
   "source": [
    "# Generating same data from ERP and ERSP amplitudes"
   ]
  },
  {
   "cell_type": "code",
   "execution_count": 13,
   "metadata": {},
   "outputs": [],
   "source": [
    "strDataDir = os.path.join(strProjectDir, 'Correlation', 'JulieAnalysis')\n",
    "strErpExcel = glob.glob(os.path.join(strDataDir, 'Children*.xlsx'))[0]\n",
    "strErspCsv = glob.glob(os.path.join(strDataDir, 'Amps*Theta*.csv'))[0]"
   ]
  },
  {
   "cell_type": "code",
   "execution_count": 21,
   "metadata": {},
   "outputs": [
    {
     "name": "stdout",
     "output_type": "stream",
     "text": [
      "/project/bioinformatics/DLLab/s187521/Maguire/MTC_Correlation/Correlation/JulieAnalysis/Children_RelatedVsUnrelated_3-5_30FirFiltDCN.xlsx\n",
      "/project/bioinformatics/DLLab/s187521/Maguire/MTC_Correlation/Correlation/JulieAnalysis/Amps_Children_RelatedVsUnrelated_3-5.study_Theta_sig_electrodes_4  8Hz_350  550ms.csv\n"
     ]
    }
   ],
   "source": [
    "print(strErpExcel)\n",
    "print(strErspCsv)"
   ]
  },
  {
   "cell_type": "code",
   "execution_count": 50,
   "metadata": {},
   "outputs": [],
   "source": [
    "dfErp = pd.read_excel(strErpExcel)\n",
    "dfErsp = pd.read_csv(strErspCsv, header=None)\n",
    "dfErsp = dfErsp.T"
   ]
  },
  {
   "cell_type": "code",
   "execution_count": 51,
   "metadata": {},
   "outputs": [
    {
     "data": {
      "text/plain": [
       "Text(0.5,1,'Children: N400 350-550ms\\n[FZ, F2, C1, CZ, C2, CP1, CPZ, CP2]')"
      ]
     },
     "execution_count": 51,
     "metadata": {},
     "output_type": "execute_result"
    },
    {
     "data": {
      "image/png": "[encoded data removed]",
      "text/plain": [
       "<Figure size 432x288 with 1 Axes>"
      ]
     },
     "metadata": {},
     "output_type": "display_data"
    }
   ],
   "source": [
    "plt.plot(dfErp.loc[:30,:].mean(), label='Related')\n",
    "plt.plot(dfErp.loc[31:61,:].mean(), label='Unrelated')\n",
    "plt.axvspan(350, 550, color='red', alpha=0.2)\n",
    "plt.legend()\n",
    "plt.xlabel('Time')\n",
    "plt.ylabel('Amplitude')\n",
    "plt.title('Children: N400 350-550ms\\n[FZ, F2, C1, CZ, C2, CP1, CPZ, CP2]')"
   ]
  },
  {
   "cell_type": "code",
   "execution_count": 52,
   "metadata": {},
   "outputs": [
    {
     "data": {
      "text/plain": [
       "Ttest_relResult(statistic=-0.5694715299006549, pvalue=0.5732759271934074)"
      ]
     },
     "execution_count": 52,
     "metadata": {},
     "output_type": "execute_result"
    }
   ],
   "source": [
    "tupTime = (350, 550)\n",
    "arrIndexTime = np.multiply(dfErp.columns > tupTime[0], dfErp.columns < tupTime[1])\n",
    "stats.ttest_rel(dfErp.loc[:30,arrIndexTime].mean(axis=1), \n",
    "                dfErp.loc[31:61,arrIndexTime].mean(axis=1))"
   ]
  },
  {
   "cell_type": "code",
   "execution_count": 56,
   "metadata": {},
   "outputs": [
    {
     "name": "stderr",
     "output_type": "stream",
     "text": [
      "/project/bioinformatics/DLLab/shared/CondaEnvironments/VyomtfGPU/lib/python3.6/site-packages/scipy/stats/stats.py:1713: FutureWarning: Using a non-tuple sequence for multidimensional indexing is deprecated; use `arr[tuple(seq)]` instead of `arr[seq]`. In the future this will be interpreted as an array index, `arr[np.array(seq)]`, which will result either in an error or a different result.\n",
      "  return np.add.reduce(sorted[indexer] * weights, axis=axis) / sumval\n",
      "/project/bioinformatics/DLLab/shared/CondaEnvironments/VyomtfGPU/lib/python3.6/site-packages/matplotlib/axes/_axes.py:6462: UserWarning: The 'normed' kwarg is deprecated, and has been replaced by the 'density' kwarg.\n",
      "  warnings.warn(\"The 'normed' kwarg is deprecated, and has been \"\n",
      "/project/bioinformatics/DLLab/shared/CondaEnvironments/VyomtfGPU/lib/python3.6/site-packages/matplotlib/axes/_axes.py:6462: UserWarning: The 'normed' kwarg is deprecated, and has been replaced by the 'density' kwarg.\n",
      "  warnings.warn(\"The 'normed' kwarg is deprecated, and has been \"\n"
     ]
    },
    {
     "data": {
      "image/png": "[encoded data removed]",
      "text/plain": [
       "<Figure size 432x432 with 3 Axes>"
      ]
     },
     "metadata": {},
     "output_type": "display_data"
    }
   ],
   "source": [
    "dfErpMeanAmps = pd.DataFrame(index=range(31), columns=['Related', 'Unrelated', 'Unrelated-Related'])\n",
    "dfErpMeanAmps['Related'] = dfErp.loc[:30,arrIndexTime].mean(axis=1)\n",
    "dfErpMeanAmps['Unrelated'] = dfErp.loc[31:61,arrIndexTime].mean(axis=1).values\n",
    "dfErpMeanAmps['Unrelated-Related'] = dfErpMeanAmps['Unrelated'] - dfErpMeanAmps['Related']\n",
    "\n",
    "\n",
    "\n",
    "dfErsp['Unrelated-Related'] = dfErsp[0] - dfErsp[1]\n",
    "\n",
    "dfResults = pd.DataFrame(index=range(31), columns=['Theta Amplitude Diff', 'N400 Amplitude Diff'])\n",
    "dfResults['Theta Amplitude Diff'] = dfErsp['Unrelated-Related']\n",
    "dfResults['N400 Amplitude Diff'] = dfErpMeanAmps['Unrelated-Related']\n",
    "\n",
    "sns.jointplot(x='Theta Amplitude Diff', y='N400 Amplitude Diff', data=dfResults, fit_reg=True, kind='reg')\n",
    "plt.title('N400-Theta Correlation\\n350-550ms\\n'+\\\n",
    "           'ERP: [FZ, F2, C1, CZ, C2, CP1, CPZ, CP2]\\n'+\\\n",
    "           'ERSP: [FC3, C3, C5, TP7]', y=-.4)\n",
    "\n",
    "\n",
    "dfResults['N400 ({}) Unrelated'.format(tupTime)] = dfErpMeanAmps['Unrelated']\n",
    "dfResults['N400 ({}) Related'.format(tupTime)] = dfErpMeanAmps['Related']\n",
    "dfResults['Theta ({}) Unrelated'.format(tupTime)] = dfErsp[0]\n",
    "dfResults['Theta ({}) Related'.format(tupTime)] = dfErsp[1]"
   ]
  },
  {
   "cell_type": "code",
   "execution_count": 40,
   "metadata": {},
   "outputs": [
    {
     "data": {
      "text/html": [
       "<div>\n",
       "<style scoped>\n",
       "    .dataframe tbody tr th:only-of-type {\n",
       "        vertical-align: middle;\n",
       "    }\n",
       "\n",
       "    .dataframe tbody tr th {\n",
       "        vertical-align: top;\n",
       "    }\n",
       "\n",
       "    .dataframe thead th {\n",
       "        text-align: right;\n",
       "    }\n",
       "</style>\n",
       "<table border=\"1\" class=\"dataframe\">\n",
       "  <thead>\n",
       "    <tr style=\"text-align: right;\">\n",
       "      <th></th>\n",
       "      <th>Related ERP</th>\n",
       "      <th>Unrelated ERP</th>\n",
       "      <th>Related ERSP</th>\n",
       "      <th>Unrelated ERSP</th>\n",
       "      <th>Related ITC</th>\n",
       "      <th>Unrelated ITC</th>\n",
       "      <th>Related_PL</th>\n",
       "      <th>Unrelated_PL</th>\n",
       "      <th>Diff_ERP</th>\n",
       "      <th>Diff_ERSP</th>\n",
       "      <th>Diff_PL</th>\n",
       "    </tr>\n",
       "  </thead>\n",
       "  <tbody>\n",
       "    <tr>\n",
       "      <th>0</th>\n",
       "      <td>0.560538</td>\n",
       "      <td>-0.626607</td>\n",
       "      <td>-0.164606</td>\n",
       "      <td>0.198252</td>\n",
       "      <td>0.096112</td>\n",
       "      <td>0.103566</td>\n",
       "      <td>-0.260718</td>\n",
       "      <td>0.094686</td>\n",
       "      <td>-1.187145</td>\n",
       "      <td>0.362858</td>\n",
       "      <td>0.355404</td>\n",
       "    </tr>\n",
       "    <tr>\n",
       "      <th>1</th>\n",
       "      <td>0.180159</td>\n",
       "      <td>-0.101855</td>\n",
       "      <td>-0.277201</td>\n",
       "      <td>0.429039</td>\n",
       "      <td>0.117032</td>\n",
       "      <td>0.173135</td>\n",
       "      <td>-0.394232</td>\n",
       "      <td>0.255904</td>\n",
       "      <td>-0.282014</td>\n",
       "      <td>0.706240</td>\n",
       "      <td>0.650136</td>\n",
       "    </tr>\n",
       "    <tr>\n",
       "      <th>2</th>\n",
       "      <td>-0.685899</td>\n",
       "      <td>-0.531979</td>\n",
       "      <td>0.403274</td>\n",
       "      <td>0.804269</td>\n",
       "      <td>0.124818</td>\n",
       "      <td>0.289896</td>\n",
       "      <td>0.278456</td>\n",
       "      <td>0.514373</td>\n",
       "      <td>0.153920</td>\n",
       "      <td>0.400995</td>\n",
       "      <td>0.235916</td>\n",
       "    </tr>\n",
       "    <tr>\n",
       "      <th>3</th>\n",
       "      <td>-0.168691</td>\n",
       "      <td>0.358589</td>\n",
       "      <td>-0.050926</td>\n",
       "      <td>0.356581</td>\n",
       "      <td>0.128303</td>\n",
       "      <td>0.135734</td>\n",
       "      <td>-0.179229</td>\n",
       "      <td>0.220847</td>\n",
       "      <td>0.527281</td>\n",
       "      <td>0.407507</td>\n",
       "      <td>0.400076</td>\n",
       "    </tr>\n",
       "    <tr>\n",
       "      <th>4</th>\n",
       "      <td>-1.975439</td>\n",
       "      <td>-1.518363</td>\n",
       "      <td>0.300150</td>\n",
       "      <td>0.043019</td>\n",
       "      <td>0.070004</td>\n",
       "      <td>0.131593</td>\n",
       "      <td>0.230146</td>\n",
       "      <td>-0.088573</td>\n",
       "      <td>0.457076</td>\n",
       "      <td>-0.257131</td>\n",
       "      <td>-0.318720</td>\n",
       "    </tr>\n",
       "  </tbody>\n",
       "</table>\n",
       "</div>"
      ],
      "text/plain": [
       "   Related ERP  Unrelated ERP  Related ERSP  Unrelated ERSP  Related ITC  \\\n",
       "0     0.560538      -0.626607     -0.164606        0.198252     0.096112   \n",
       "1     0.180159      -0.101855     -0.277201        0.429039     0.117032   \n",
       "2    -0.685899      -0.531979      0.403274        0.804269     0.124818   \n",
       "3    -0.168691       0.358589     -0.050926        0.356581     0.128303   \n",
       "4    -1.975439      -1.518363      0.300150        0.043019     0.070004   \n",
       "\n",
       "   Unrelated ITC  Related_PL  Unrelated_PL  Diff_ERP  Diff_ERSP   Diff_PL  \n",
       "0       0.103566   -0.260718      0.094686 -1.187145   0.362858  0.355404  \n",
       "1       0.173135   -0.394232      0.255904 -0.282014   0.706240  0.650136  \n",
       "2       0.289896    0.278456      0.514373  0.153920   0.400995  0.235916  \n",
       "3       0.135734   -0.179229      0.220847  0.527281   0.407507  0.400076  \n",
       "4       0.131593    0.230146     -0.088573  0.457076  -0.257131 -0.318720  "
      ]
     },
     "execution_count": 40,
     "metadata": {},
     "output_type": "execute_result"
    }
   ],
   "source": [
    "# This is the file Julie emailed me\n",
    "dfCorr.head()"
   ]
  },
  {
   "cell_type": "code",
   "execution_count": 41,
   "metadata": {},
   "outputs": [
    {
     "data": {
      "text/html": [
       "<div>\n",
       "<style scoped>\n",
       "    .dataframe tbody tr th:only-of-type {\n",
       "        vertical-align: middle;\n",
       "    }\n",
       "\n",
       "    .dataframe tbody tr th {\n",
       "        vertical-align: top;\n",
       "    }\n",
       "\n",
       "    .dataframe thead th {\n",
       "        text-align: right;\n",
       "    }\n",
       "</style>\n",
       "<table border=\"1\" class=\"dataframe\">\n",
       "  <thead>\n",
       "    <tr style=\"text-align: right;\">\n",
       "      <th></th>\n",
       "      <th>Theta Amplitude Diff</th>\n",
       "      <th>N400 Amplitude Diff</th>\n",
       "      <th>N400 ((350, 550)) Unrelated</th>\n",
       "      <th>N400 ((350, 550)) Related</th>\n",
       "      <th>Theta ((350, 550)) Unrelated</th>\n",
       "      <th>Theta ((350, 550)) Related</th>\n",
       "    </tr>\n",
       "  </thead>\n",
       "  <tbody>\n",
       "    <tr>\n",
       "      <th>0</th>\n",
       "      <td>-0.301890</td>\n",
       "      <td>0.513865</td>\n",
       "      <td>-0.252651</td>\n",
       "      <td>-0.766517</td>\n",
       "      <td>-0.50534</td>\n",
       "      <td>-0.203450</td>\n",
       "    </tr>\n",
       "    <tr>\n",
       "      <th>1</th>\n",
       "      <td>-0.004830</td>\n",
       "      <td>0.448627</td>\n",
       "      <td>0.164521</td>\n",
       "      <td>-0.284106</td>\n",
       "      <td>0.38977</td>\n",
       "      <td>0.394600</td>\n",
       "    </tr>\n",
       "    <tr>\n",
       "      <th>2</th>\n",
       "      <td>0.705310</td>\n",
       "      <td>0.947005</td>\n",
       "      <td>0.329795</td>\n",
       "      <td>-0.617210</td>\n",
       "      <td>0.60044</td>\n",
       "      <td>-0.104870</td>\n",
       "    </tr>\n",
       "    <tr>\n",
       "      <th>3</th>\n",
       "      <td>0.425400</td>\n",
       "      <td>-0.593173</td>\n",
       "      <td>-0.490651</td>\n",
       "      <td>0.102522</td>\n",
       "      <td>0.32059</td>\n",
       "      <td>-0.104810</td>\n",
       "    </tr>\n",
       "    <tr>\n",
       "      <th>4</th>\n",
       "      <td>-0.236346</td>\n",
       "      <td>-0.235204</td>\n",
       "      <td>0.174716</td>\n",
       "      <td>0.409921</td>\n",
       "      <td>-0.17404</td>\n",
       "      <td>0.062306</td>\n",
       "    </tr>\n",
       "  </tbody>\n",
       "</table>\n",
       "</div>"
      ],
      "text/plain": [
       "   Theta Amplitude Diff  N400 Amplitude Diff  N400 ((350, 550)) Unrelated  \\\n",
       "0             -0.301890             0.513865                    -0.252651   \n",
       "1             -0.004830             0.448627                     0.164521   \n",
       "2              0.705310             0.947005                     0.329795   \n",
       "3              0.425400            -0.593173                    -0.490651   \n",
       "4             -0.236346            -0.235204                     0.174716   \n",
       "\n",
       "   N400 ((350, 550)) Related  Theta ((350, 550)) Unrelated  \\\n",
       "0                  -0.766517                      -0.50534   \n",
       "1                  -0.284106                       0.38977   \n",
       "2                  -0.617210                       0.60044   \n",
       "3                   0.102522                       0.32059   \n",
       "4                   0.409921                      -0.17404   \n",
       "\n",
       "   Theta ((350, 550)) Related  \n",
       "0                   -0.203450  \n",
       "1                    0.394600  \n",
       "2                   -0.104870  \n",
       "3                   -0.104810  \n",
       "4                    0.062306  "
      ]
     },
     "execution_count": 41,
     "metadata": {},
     "output_type": "execute_result"
    }
   ],
   "source": [
    "# This is my attempt at replicating it\n",
    "dfResults.head()"
   ]
  },
  {
   "cell_type": "code",
   "execution_count": 42,
   "metadata": {},
   "outputs": [],
   "source": [
    "dfResults.to_csv('./Correlation_350-550_N400_Theta.csv')"
   ]
  }
 ],
 "metadata": {
  "kernelspec": {
   "display_name": "Python 3",
   "language": "python",
   "name": "python3"
  },
  "language_info": {
   "codemirror_mode": {
    "name": "ipython",
    "version": 3
   },
   "file_extension": ".py",
   "mimetype": "text/x-python",
   "name": "python",
   "nbconvert_exporter": "python",
   "pygments_lexer": "ipython3",
   "version": "3.6.7"
  }
 },
 "nbformat": 4,
 "nbformat_minor": 2
}
